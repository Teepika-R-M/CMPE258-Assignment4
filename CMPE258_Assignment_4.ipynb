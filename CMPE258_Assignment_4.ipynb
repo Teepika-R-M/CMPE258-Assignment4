{
  "nbformat": 4,
  "nbformat_minor": 0,
  "metadata": {
    "colab": {
      "name": "CMPE258:Assignment 4.ipynb",
      "provenance": [],
      "collapsed_sections": [],
      "toc_visible": true
    },
    "kernelspec": {
      "name": "python3",
      "display_name": "Python 3"
    },
    "language_info": {
      "name": "python"
    }
  },
  "cells": [
    {
      "cell_type": "markdown",
      "metadata": {
        "id": "DMlQ6w4BuESu"
      },
      "source": [
        "# Part A: Using Numpy"
      ]
    },
    {
      "cell_type": "markdown",
      "metadata": {
        "id": "DFa5s6kA127i"
      },
      "source": [
        "# Importing packages"
      ]
    },
    {
      "cell_type": "code",
      "metadata": {
        "id": "ostiGJTXqt4r"
      },
      "source": [
        "import imageio\n",
        "import imgaug as ia\n",
        "import imgaug.augmenters as iaa\n",
        "import numpy as np\n",
        "import pandas as pd\n",
        "import matplotlib.pyplot as plt\n",
        "import matplotlib.patches as patches\n",
        "import matplotlib\n",
        "import sys\n",
        "from keras.datasets import mnist\n",
        "from matplotlib import pyplot\n",
        "%matplotlib inline"
      ],
      "execution_count": 3,
      "outputs": []
    },
    {
      "cell_type": "code",
      "metadata": {
        "id": "iXDDvxcW16Xi"
      },
      "source": [
        "! pip install -q scikit-plot"
      ],
      "execution_count": 4,
      "outputs": []
    },
    {
      "cell_type": "markdown",
      "metadata": {
        "id": "zqZGn3xoq6Bj"
      },
      "source": [
        "# Loading MNIST Data"
      ]
    },
    {
      "cell_type": "code",
      "metadata": {
        "id": "U9AOe_aMq8_T"
      },
      "source": [
        "(X_train, y_train), (x_test, y_test) = mnist.load_data()"
      ],
      "execution_count": 5,
      "outputs": []
    },
    {
      "cell_type": "markdown",
      "metadata": {
        "id": "ZXSSSu9Us-um"
      },
      "source": [
        "# Augment training data"
      ]
    },
    {
      "cell_type": "markdown",
      "metadata": {
        "id": "L0Nxpn066MMo"
      },
      "source": [
        "### Training data (6000) images are augmented by adding noise, applying sheer and zooming "
      ]
    },
    {
      "cell_type": "code",
      "metadata": {
        "id": "DPNwkUeJ57WY"
      },
      "source": [
        "def augment_data(dataset, dataset_labels, augementation_factor=1, use_noise=True, use_random_shear=True, use_random_shift=True, use_scaling=True):\n",
        "\taugmented_image = []\n",
        "\taugmented_image_labels = []\n",
        "\n",
        "\tfor num in range (0, dataset.shape[0]):\n",
        "\n",
        "\t\tfor i in range(0, augementation_factor):\n",
        "\t\t\t# original image:\n",
        "\t\t\t\n",
        "\n",
        "\t\t\ttransform_image=dataset[num]\n",
        "\t\t\tif use_noise:\n",
        "\n",
        "\t\t\t\ttransform_image=iaa.AdditiveGaussianNoise(10,20).augment_image(transform_image)\n",
        "\n",
        "\n",
        "\t\t\tif use_random_shear:\n",
        "\t\t\t\ttransform_image=iaa.Affine(shear=(0,40)).augment_image(transform_image)\n",
        "\n",
        "\t\t\tif use_scaling:\n",
        "\t\t\t\ttransform_image=iaa.Affine(scale={\"x\": (1.5, 1.0), \"y\": (1.5, 1.0)}).augment_image(transform_image)\n",
        "\t\t\taugmented_image_labels.append(dataset_labels[num])\n",
        "\t\t\taugmented_image.append(transform_image)\n",
        "\treturn np.array(augmented_image), np.array(augmented_image_labels)\n",
        "# augment_data function is called to apply the changes to training data\n",
        "\n",
        "X_train_aug,y_train_aug=augment_data(X_train,y_train,1,True,True,True,True)"
      ],
      "execution_count": 6,
      "outputs": []
    },
    {
      "cell_type": "markdown",
      "metadata": {
        "id": "r6Xfwy06xCr6"
      },
      "source": [
        "# Visualize before and after data augmentation"
      ]
    },
    {
      "cell_type": "code",
      "metadata": {
        "colab": {
          "base_uri": "https://localhost:8080/",
          "height": 553
        },
        "id": "zXltOZoHxHgL",
        "outputId": "c6f44e2b-7b92-4667-997b-a4fc396c3847"
      },
      "source": [
        "print(\"Before Augmentation\")\n",
        "for i in range(0, 9):\n",
        "\t\t \n",
        "\t\tpyplot.subplot(330 + 1 + i)\n",
        "\t\tpyplot.imshow(X_train[i], cmap=pyplot.get_cmap('gray'))\n",
        "\t# show the plot\n",
        "\n",
        "pyplot.show()\n",
        "\n",
        "print(\"After Augmentation\")\n",
        "for i in range(0, 9):\n",
        "\t\t\n",
        "\t\tpyplot.subplot(330 + 1 + i)\n",
        "\t\tpyplot.imshow(X_train_aug[i], cmap=pyplot.get_cmap('gray'))\n",
        "\t# show the plot\n",
        "\n",
        "pyplot.show()"
      ],
      "execution_count": 7,
      "outputs": [
        {
          "output_type": "stream",
          "text": [
            "Before Augmentation\n"
          ],
          "name": "stdout"
        },
        {
          "output_type": "display_data",
          "data": {
            "image/png": "[encoded data removed]",
            "text/plain": [
              "<Figure size 432x288 with 9 Axes>"
            ]
          },
          "metadata": {
            "tags": [],
            "needs_background": "light"
          }
        },
        {
          "output_type": "stream",
          "text": [
            "After Augmentation\n"
          ],
          "name": "stdout"
        },
        {
          "output_type": "display_data",
          "data": {
            "image/png": "[encoded data removed]",
            "text/plain": [
              "<Figure size 432x288 with 9 Axes>"
            ]
          },
          "metadata": {
            "tags": [],
            "needs_background": "light"
          }
        }
      ]
    },
    {
      "cell_type": "markdown",
      "metadata": {
        "id": "0-YdJOyoqxjq"
      },
      "source": [
        "# Dropout Function based on percentage"
      ]
    },
    {
      "cell_type": "code",
      "metadata": {
        "id": "vu8EgmrVq3Io"
      },
      "source": [
        "def dropout_mask_create(num_create,percent):\n",
        "  drop_count=round((num_create/100)*percent)\n",
        "  index_drop=np.random.permutation(num_create)[:drop_count]\n",
        "  \n",
        "  dropout_mask=np.ones(num_create)\n",
        "  for i in index_drop:\n",
        "    dropout_mask[i]=0\n",
        "  return dropout_mask"
      ],
      "execution_count": 8,
      "outputs": []
    },
    {
      "cell_type": "markdown",
      "metadata": {
        "id": "KXiday8Jyh89"
      },
      "source": [
        "# Resizing and one_hot_encoding of labels "
      ]
    },
    {
      "cell_type": "code",
      "metadata": {
        "id": "Hjoc7Eqow1Ss"
      },
      "source": [
        "x_train=X_train_aug\n",
        "images, labels = (x_train[0:x_train.shape[0]].reshape(x_train.shape[0],28*28) / 255, y_train[0:x_train.shape[0]])\n",
        "test_images = x_test.reshape(len(x_test),28*28) / 255\n",
        "test_labels = np.zeros((len(y_test),10))\n",
        "one_hot_labels = np.zeros((len(labels),10))\n",
        "for i,l in enumerate(labels):\n",
        "    one_hot_labels[i][l] = 1\n",
        "labels = one_hot_labels\n",
        "\n",
        "y_test_true_labels=[None] * y_test.size\n",
        "y_test_pred_labels=[None] * y_test.size\n",
        "for i,l in enumerate(y_test):\n",
        "    test_labels[i][l] = 1\n",
        "\n"
      ],
      "execution_count": 9,
      "outputs": []
    },
    {
      "cell_type": "markdown",
      "metadata": {
        "id": "tExovaoyzgwt"
      },
      "source": [
        "# Values set after multiple trials on the network configuration parameters"
      ]
    },
    {
      "cell_type": "markdown",
      "metadata": {
        "id": "6R9ZAwkVzuHL"
      },
      "source": [
        "### Learning rate is set to 0.001"
      ]
    },
    {
      "cell_type": "markdown",
      "metadata": {
        "id": "Le_XlTkaz07E"
      },
      "source": [
        "### Number of iterations is set to 25\n"
      ]
    },
    {
      "cell_type": "markdown",
      "metadata": {
        "id": "B7vK0PyYz6s-"
      },
      "source": [
        "###Hidden Layer units\n",
        "Layer 2 : 128 units <br>\n",
        "Layer 3 : 100 units <br>\n",
        "Layer 4 : 50 units <br>\n"
      ]
    },
    {
      "cell_type": "markdown",
      "metadata": {
        "id": "TCeYboUO0LP7"
      },
      "source": [
        "###Mini Batch Size is set to 8"
      ]
    },
    {
      "cell_type": "code",
      "metadata": {
        "id": "bYb2aiSizZOC"
      },
      "source": [
        "alpha, iterations, hidden_size1,hidden_size2,hidden_size3,pixels_per_image, num_labels, batch_size = (0.001, 17, 128,100,50, 784, 10,8)\n"
      ],
      "execution_count": 10,
      "outputs": []
    },
    {
      "cell_type": "markdown",
      "metadata": {
        "id": "9iCmL4EjzREA"
      },
      "source": [
        "# Relu and its derivative"
      ]
    },
    {
      "cell_type": "code",
      "metadata": {
        "id": "ZUhavxK3zWZu"
      },
      "source": [
        "relu = lambda x:(x>=0) * x # returns x if x > 0, return 0 otherwise\n",
        "relu2deriv = lambda x: x>=0 # returns 1 for input > 0, return 0 otherwise"
      ],
      "execution_count": 11,
      "outputs": []
    },
    {
      "cell_type": "markdown",
      "metadata": {
        "id": "4MG21RihzGo7"
      },
      "source": [
        "# Weight Initialization specifically customized for relu activation functions"
      ]
    },
    {
      "cell_type": "code",
      "metadata": {
        "id": "wvHc3CalzO94"
      },
      "source": [
        "from math import *\n",
        "np.random.seed(1)\n",
        "weights_0_1 = 0.2*np.random.random((pixels_per_image,hidden_size1)) * sqrt(2.0 / pixels_per_image)\n",
        "weights_1_2 = 0.2*np.random.random((hidden_size1,hidden_size2)) * sqrt(2.0 / hidden_size1)\n",
        "weights_2_3 = 0.2*np.random.random((hidden_size2,hidden_size3)) * sqrt(2.0 / hidden_size2)\n",
        "weights_3_4 = 0.2*np.random.random((hidden_size3,num_labels)) * sqrt(2.0 / hidden_size3)"
      ],
      "execution_count": 12,
      "outputs": []
    },
    {
      "cell_type": "markdown",
      "metadata": {
        "id": "EeSqTwjY1Fq7"
      },
      "source": [
        "# Training and Testing in mini batch"
      ]
    },
    {
      "cell_type": "code",
      "metadata": {
        "id": "6f30Gog9wvLQ",
        "colab": {
          "base_uri": "https://localhost:8080/"
        },
        "outputId": "444b54de-7bc5-40d4-9baa-2a8d1d07f0fe"
      },
      "source": [
        "for j in range(iterations):\n",
        "    error, correct_cnt = (0.0, 0)\n",
        "    # Forward Propagation in mini batch of 8\n",
        "    for i in range(int(len(images) / batch_size)):\n",
        "        batch_start, batch_end = ((i * batch_size),((i+1)*batch_size))\n",
        "        layer_0 = images[batch_start:batch_end]\n",
        "        layer_1 = relu(np.dot(layer_0,weights_0_1))\n",
        "        dropout_mask=[]\n",
        "    #Adding dropout of 20 percentage\n",
        "        for i in range(layer_1.shape[0]):\n",
        "          dropout_mask.append(dropout_mask_create(layer_1.shape[1],20))\n",
        "        layer_1 *= dropout_mask\n",
        "        layer_2 = relu(np.dot(layer_1,weights_1_2))\n",
        "\n",
        "\n",
        "        layer_3 = relu(np.dot(layer_2,weights_2_3))\n",
        "        dropout_mask2=[]\n",
        "    #Adding dropout of 5 percentage\n",
        "        for i in range(layer_3.shape[0]):\n",
        "          dropout_mask2.append(dropout_mask_create(layer_3.shape[1],5))\n",
        "        layer_3 *= dropout_mask2\n",
        "        layer_4 = np.dot(layer_3,weights_3_4)\n",
        "\n",
        "        error += np.sum((labels[batch_start:batch_end] - layer_4) ** 2)\n",
        "        #Backward Propagation in mini batch of 8\n",
        "        for k in range(batch_size):\n",
        "            correct_cnt += int(np.argmax(layer_4[k:k+1]) == np.argmax(labels[batch_start+k:batch_start+k+1]))\n",
        "            layer_4_delta = (labels[batch_start:batch_end] - layer_4)/batch_size\n",
        "            layer_3_delta = layer_4_delta.dot(weights_3_4.T)* relu2deriv(layer_3)\n",
        "            layer_3_delta *= dropout_mask2\n",
        "            layer_2_delta = layer_3_delta.dot(weights_2_3.T)* relu2deriv(layer_2)\n",
        "\n",
        "            layer_1_delta = layer_2_delta.dot(weights_1_2.T)* relu2deriv(layer_1)\n",
        "            layer_1_delta *= dropout_mask\n",
        "            weights_3_4 += alpha * layer_3.T.dot(layer_4_delta)\n",
        "            weights_2_3 += alpha * layer_2.T.dot(layer_3_delta)                           \n",
        "            weights_1_2 += alpha * layer_1.T.dot(layer_2_delta)\n",
        "            weights_0_1 += alpha * layer_0.T.dot(layer_1_delta)  \n",
        "    if(j >=0):\n",
        "        test_error = 0.0\n",
        "        test_correct_cnt = 0\n",
        "        # Testing for each iteration\n",
        "        for i in range(len(test_images)):\n",
        "\n",
        "\n",
        "            layer_0 = test_images[i:i+1]\n",
        "            layer_1 = relu(np.dot(layer_0,weights_0_1))\n",
        "            layer_2 = relu(np.dot(layer_1,weights_1_2))\n",
        "            layer_3 = relu(np.dot(layer_2,weights_2_3))\n",
        "            layer_4 = np.dot(layer_3,weights_3_4)\n",
        "            test_error += np.sum((test_labels[i:i+1] - layer_4) ** 2)\n",
        "            y_test_pred_labels[i]=np.argmax(layer_4)\n",
        "            y_test_true_labels[i]=np.argmax(test_labels[i:i+1])\n",
        "            test_correct_cnt += int(y_test_pred_labels[i] == \\\n",
        "                                            y_test_true_labels[i])\n",
        "        # Printing the accuracy to understand the performance  \n",
        "        sys.stdout.write(\"\\n\" + \\\n",
        "                         \"I:\" + str(j) + \\\n",
        "                         \" Test-Err:\" + str(test_error/ float(len(test_images)))[0:5] +\\\n",
        "                         \" Test-Acc:\" + str(test_correct_cnt/ float(len(test_images)))+\\\n",
        "                         \" Train-Err:\" + str(error/ float(len(images)))[0:5] +\\\n",
        "                         \" Train-Acc:\" + str(correct_cnt/ float(len(images))))\n",
        "        print()"
      ],
      "execution_count": 13,
      "outputs": [
        {
          "output_type": "stream",
          "text": [
            "\n",
            "I:0 Test-Err:0.910 Test-Acc:0.0958 Train-Err:0.936 Train-Acc:0.09155\n",
            "\n",
            "I:1 Test-Err:0.909 Test-Acc:0.0958 Train-Err:0.916 Train-Acc:0.09228333333333333\n",
            "\n",
            "I:2 Test-Err:0.908 Test-Acc:0.0958 Train-Err:0.912 Train-Acc:0.09256666666666667\n",
            "\n",
            "I:3 Test-Err:0.908 Test-Acc:0.0958 Train-Err:0.909 Train-Acc:0.09118333333333334\n",
            "\n",
            "I:4 Test-Err:0.908 Test-Acc:0.0958 Train-Err:0.908 Train-Acc:0.0918\n",
            "\n",
            "I:5 Test-Err:0.908 Test-Acc:0.0958 Train-Err:0.907 Train-Acc:0.0922\n",
            "\n",
            "I:6 Test-Err:0.908 Test-Acc:0.0958 Train-Err:0.906 Train-Acc:0.09196666666666667\n",
            "\n",
            "I:7 Test-Err:0.908 Test-Acc:0.1032 Train-Err:0.906 Train-Acc:0.0936\n",
            "\n",
            "I:8 Test-Err:0.907 Test-Acc:0.1032 Train-Err:0.905 Train-Acc:0.09423333333333334\n",
            "\n",
            "I:9 Test-Err:0.905 Test-Acc:0.1033 Train-Err:0.904 Train-Acc:0.0956\n",
            "\n",
            "I:10 Test-Err:0.843 Test-Acc:0.2371 Train-Err:0.858 Train-Acc:0.20826666666666666\n",
            "\n",
            "I:11 Test-Err:0.890 Test-Acc:0.3241 Train-Err:0.775 Train-Acc:0.29806666666666665\n",
            "\n",
            "I:12 Test-Err:1.149 Test-Acc:0.3295 Train-Err:0.696 Train-Acc:0.39521666666666666\n",
            "\n",
            "I:13 Test-Err:1.563 Test-Acc:0.3846 Train-Err:0.675 Train-Acc:0.46145\n",
            "\n",
            "I:14 Test-Err:2.053 Test-Acc:0.4939 Train-Err:0.609 Train-Acc:0.5801333333333333\n",
            "\n",
            "I:15 Test-Err:2.273 Test-Acc:0.5958 Train-Err:0.573 Train-Acc:0.6394\n",
            "\n",
            "I:16 Test-Err:2.378 Test-Acc:0.6437 Train-Err:0.556 Train-Acc:0.6627333333333333\n"
          ],
          "name": "stdout"
        }
      ]
    },
    {
      "cell_type": "markdown",
      "metadata": {
        "id": "_3T6Uem-1iKF"
      },
      "source": [
        "# Printing the confusion matrix"
      ]
    },
    {
      "cell_type": "code",
      "metadata": {
        "id": "FXNwYzn_1m22",
        "colab": {
          "base_uri": "https://localhost:8080/",
          "height": 747
        },
        "outputId": "c915937e-cc26-4f53-d9ad-07434617fe3b"
      },
      "source": [
        "import scikitplot as skplt\n",
        "\n",
        "skplt.metrics.plot_confusion_matrix(\n",
        "    y_test_true_labels, \n",
        "    y_test_pred_labels,\n",
        "    figsize=(20,12))"
      ],
      "execution_count": 14,
      "outputs": [
        {
          "output_type": "execute_result",
          "data": {
            "text/plain": [
              "<matplotlib.axes._subplots.AxesSubplot at 0x7f88ab4c7750>"
            ]
          },
          "metadata": {
            "tags": []
          },
          "execution_count": 14
        },
        {
          "output_type": "display_data",
          "data": {
            "image/png": "[encoded data removed]",
            "text/plain": [
              "<Figure size 1440x864 with 2 Axes>"
            ]
          },
          "metadata": {
            "tags": [],
            "needs_background": "light"
          }
        }
      ]
    },
    {
      "cell_type": "markdown",
      "metadata": {
        "id": "TB_FRxFj1fWc"
      },
      "source": [
        "# Conclusion"
      ]
    },
    {
      "cell_type": "markdown",
      "metadata": {
        "id": "vfcZ8sht1h4E"
      },
      "source": [
        "Have attained accuracy of 64.37% on augmented "
      ]
    },
    {
      "cell_type": "markdown",
      "metadata": {
        "id": "6-J5_qKxqW4d"
      },
      "source": [
        "# Part B : Using Keras"
      ]
    },
    {
      "cell_type": "code",
      "metadata": {
        "id": "MCxF8IVPvAJF"
      },
      "source": [
        "from keras import models\n",
        "from keras.layers import Dense, Dropout\n",
        "from keras.utils import to_categorical\n",
        "from keras.datasets import mnist\n",
        "from keras.utils.vis_utils import model_to_dot\n",
        "from IPython.display import SVG\n",
        "from keras.optimizers import Adam\n",
        "%matplotlib inline"
      ],
      "execution_count": 18,
      "outputs": []
    },
    {
      "cell_type": "markdown",
      "metadata": {
        "id": "hlf6PBx6vVEB"
      },
      "source": [
        "# Utilizing Adapting learning rate (Adam)"
      ]
    },
    {
      "cell_type": "markdown",
      "metadata": {
        "id": "6l8WkQPKvZkp"
      },
      "source": [
        "Have used Adaptive Moment Estimation (Adam)  to update network weights iteratively. Have chosen ADAM because it includes the advantages of two other extensions - AdaGrad and RMSProp."
      ]
    },
    {
      "cell_type": "code",
      "metadata": {
        "id": "vc8DRq5vu4zO"
      },
      "source": [
        "\n",
        "opt = Adam()\n"
      ],
      "execution_count": 19,
      "outputs": []
    },
    {
      "cell_type": "markdown",
      "metadata": {
        "id": "A03o_LUfwgp0"
      },
      "source": [
        "# Loading and Printing dimensions"
      ]
    },
    {
      "cell_type": "code",
      "metadata": {
        "colab": {
          "base_uri": "https://localhost:8080/"
        },
        "id": "WKEwrcyOwkTo",
        "outputId": "ed13c59d-41e0-4512-d3af-0e675eee892a"
      },
      "source": [
        "Num_of_Rows = 28\n",
        "Num_of_Cols = 28\n",
        "Num_of_Labels = 10\n",
        "BATCH_SIZE = 128\n",
        "EPOCHS = 10\n",
        "\n",
        "def data_size(X_train, y_train, X_test, y_test):\n",
        "    \"\"\"Summarize current state of dataset\"\"\"\n",
        "    print('Training images shape:', X_train.shape)\n",
        "    print('Training labels shape:', y_train.shape)\n",
        "    print('Validation images shape:', X_test.shape)\n",
        "    print('Validation labels shape:', y_test.shape)\n",
        "\n",
        "\n",
        "\n",
        "\"\"\"Load and prepare data\"\"\"\n",
        "\n",
        "# Load data\n",
        "(X_train, y_train), (X_test, y_test) = mnist.load_data()\n",
        "\n",
        "# Check state of dataset\n",
        "data_size(X_train, y_train, X_test, y_test)\n",
        "\n"
      ],
      "execution_count": 20,
      "outputs": [
        {
          "output_type": "stream",
          "text": [
            "Training images shape: (60000, 28, 28)\n",
            "Training labels shape: (60000,)\n",
            "Validation images shape: (10000, 28, 28)\n",
            "Validation labels shape: (10000,)\n"
          ],
          "name": "stdout"
        }
      ]
    },
    {
      "cell_type": "markdown",
      "metadata": {
        "id": "EEPQXYiIxif4"
      },
      "source": [
        "# Reshaping and encoding labels"
      ]
    },
    {
      "cell_type": "code",
      "metadata": {
        "id": "RlElh6bUxWSw"
      },
      "source": [
        "# Reshape data\n",
        "X_train = X_train.reshape((X_train.shape[0], Num_of_Rows * Num_of_Cols))\n",
        "X_train = X_train.astype('float32') / 255\n",
        "X_test = X_test.reshape((X_test.shape[0], Num_of_Rows * Num_of_Cols))\n",
        "X_test = X_test.astype('float32') / 255\n",
        "\n",
        "# Categorically encode labels\n",
        "y_train = to_categorical(y_train, Num_of_Labels)\n",
        "y_test = to_categorical(y_test, Num_of_Labels)\n",
        "\n",
        "\n"
      ],
      "execution_count": 21,
      "outputs": []
    },
    {
      "cell_type": "markdown",
      "metadata": {
        "id": "H1tZyYV7x2EB"
      },
      "source": [
        "#Training on original Dataset"
      ]
    },
    {
      "cell_type": "code",
      "metadata": {
        "colab": {
          "base_uri": "https://localhost:8080/"
        },
        "id": "Lt7kWFhGx2jZ",
        "outputId": "82da69e8-7c2b-4e16-d8f4-ab1e01c4ac68"
      },
      "source": [
        "\"\"\"Build and train neural network\"\"\"\n",
        "\n",
        "# Build neural network\n",
        "model = models.Sequential()\n",
        "model.add(Dense(512, activation='relu', input_shape=(Num_of_Rows * Num_of_Cols,)))\n",
        "model.add(Dropout(0.5))\n",
        "model.add(Dense(256, activation='relu'))\n",
        "model.add(Dropout(0.25))\n",
        "model.add(Dense(128, activation='relu'))\n",
        "model.add(Dropout(0.1))\n",
        "model.add(Dense(10, activation='softmax'))\n",
        "\n",
        "# Compile model\n",
        "model.compile(optimizer=opt,\n",
        "              loss='categorical_crossentropy',\n",
        "              metrics=['accuracy'])\n",
        "\n",
        "# Train model\n",
        "model.fit(X_train, y_train,\n",
        "          batch_size=BATCH_SIZE,\n",
        "          epochs=EPOCHS,\n",
        "          verbose=1,\n",
        "          validation_data=(X_test, y_test))\n",
        "\n"
      ],
      "execution_count": 22,
      "outputs": [
        {
          "output_type": "stream",
          "text": [
            "Epoch 1/10\n",
            "469/469 [==============================] - 8s 16ms/step - loss: 0.6556 - accuracy: 0.7910 - val_loss: 0.1267 - val_accuracy: 0.9624\n",
            "Epoch 2/10\n",
            "469/469 [==============================] - 7s 15ms/step - loss: 0.1800 - accuracy: 0.9458 - val_loss: 0.0998 - val_accuracy: 0.9694\n",
            "Epoch 3/10\n",
            "469/469 [==============================] - 6s 13ms/step - loss: 0.1359 - accuracy: 0.9590 - val_loss: 0.0894 - val_accuracy: 0.9732\n",
            "Epoch 4/10\n",
            "469/469 [==============================] - 6s 13ms/step - loss: 0.1130 - accuracy: 0.9658 - val_loss: 0.0722 - val_accuracy: 0.9782\n",
            "Epoch 5/10\n",
            "469/469 [==============================] - 6s 13ms/step - loss: 0.1015 - accuracy: 0.9681 - val_loss: 0.0682 - val_accuracy: 0.9780\n",
            "Epoch 6/10\n",
            "469/469 [==============================] - 6s 13ms/step - loss: 0.0868 - accuracy: 0.9726 - val_loss: 0.0661 - val_accuracy: 0.9795\n",
            "Epoch 7/10\n",
            "469/469 [==============================] - 6s 13ms/step - loss: 0.0817 - accuracy: 0.9745 - val_loss: 0.0675 - val_accuracy: 0.9792\n",
            "Epoch 8/10\n",
            "469/469 [==============================] - 6s 14ms/step - loss: 0.0737 - accuracy: 0.9769 - val_loss: 0.0660 - val_accuracy: 0.9798\n",
            "Epoch 9/10\n",
            "469/469 [==============================] - 6s 13ms/step - loss: 0.0662 - accuracy: 0.9793 - val_loss: 0.0674 - val_accuracy: 0.9788\n",
            "Epoch 10/10\n",
            "469/469 [==============================] - 6s 13ms/step - loss: 0.0644 - accuracy: 0.9798 - val_loss: 0.0638 - val_accuracy: 0.9824\n"
          ],
          "name": "stdout"
        },
        {
          "output_type": "execute_result",
          "data": {
            "text/plain": [
              "<tensorflow.python.keras.callbacks.History at 0x7f8885072150>"
            ]
          },
          "metadata": {
            "tags": []
          },
          "execution_count": 22
        }
      ]
    },
    {
      "cell_type": "markdown",
      "metadata": {
        "id": "C_t417xux6VD"
      },
      "source": [
        "# Model Evaluation on original Dataset"
      ]
    },
    {
      "cell_type": "code",
      "metadata": {
        "colab": {
          "base_uri": "https://localhost:8080/"
        },
        "id": "vtKgrrYNx846",
        "outputId": "0d3e6de0-5564-47dd-a1d1-e8745893881d"
      },
      "source": [
        "score = model.evaluate(X_test, y_test, verbose=0)\n",
        "print('Test loss:', score[0])\n",
        "print('Test accuracy:', score[1])\n",
        "\n",
        "\n",
        "\"\"\"Summarize and visualize the model\"\"\"\n",
        "\n",
        "# Summary of neural network\n",
        "model.summary()"
      ],
      "execution_count": 23,
      "outputs": [
        {
          "output_type": "stream",
          "text": [
            "Test loss: 0.06376983970403671\n",
            "Test accuracy: 0.9824000000953674\n",
            "Model: \"sequential_2\"\n",
            "_________________________________________________________________\n",
            "Layer (type)                 Output Shape              Param #   \n",
            "=================================================================\n",
            "dense_8 (Dense)              (None, 512)               401920    \n",
            "_________________________________________________________________\n",
            "dropout_6 (Dropout)          (None, 512)               0         \n",
            "_________________________________________________________________\n",
            "dense_9 (Dense)              (None, 256)               131328    \n",
            "_________________________________________________________________\n",
            "dropout_7 (Dropout)          (None, 256)               0         \n",
            "_________________________________________________________________\n",
            "dense_10 (Dense)             (None, 128)               32896     \n",
            "_________________________________________________________________\n",
            "dropout_8 (Dropout)          (None, 128)               0         \n",
            "_________________________________________________________________\n",
            "dense_11 (Dense)             (None, 10)                1290      \n",
            "=================================================================\n",
            "Total params: 567,434\n",
            "Trainable params: 567,434\n",
            "Non-trainable params: 0\n",
            "_________________________________________________________________\n"
          ],
          "name": "stdout"
        }
      ]
    },
    {
      "cell_type": "markdown",
      "metadata": {
        "id": "V9nMEnLgyIQ2"
      },
      "source": [
        "# Traning on Augmented Dataset"
      ]
    },
    {
      "cell_type": "code",
      "metadata": {
        "id": "XPMY58ZE0X7D"
      },
      "source": [
        "# Load data\n",
        "(X_train, y_train), (X_test, y_test) = mnist.load_data()\n",
        "\n",
        "# Reshape data\n",
        "X_train = X_train.reshape((X_train.shape[0], Num_of_Rows * Num_of_Cols))\n",
        "X_train = X_train.astype('float32') / 255\n",
        "X_test = X_test.reshape((X_test.shape[0], Num_of_Rows * Num_of_Cols))\n",
        "X_test = X_test.astype('float32') / 255\n",
        "\n",
        "# Categorically encode labels\n",
        "y_train = to_categorical(y_train, Num_of_Labels)\n",
        "y_test = to_categorical(y_test, Num_of_Labels)\n",
        "\n",
        "\n"
      ],
      "execution_count": 26,
      "outputs": []
    },
    {
      "cell_type": "code",
      "metadata": {
        "colab": {
          "base_uri": "https://localhost:8080/"
        },
        "id": "IlIx9PSN0wBl",
        "outputId": "df485047-9f20-40a2-e03a-9b86d738dea7"
      },
      "source": [
        "X_augmented=X_train_aug.reshape(x_train.shape[0],28*28)\n",
        "print(X_augmented.shape)"
      ],
      "execution_count": 29,
      "outputs": [
        {
          "output_type": "stream",
          "text": [
            "(60000, 784)\n"
          ],
          "name": "stdout"
        }
      ]
    },
    {
      "cell_type": "code",
      "metadata": {
        "colab": {
          "base_uri": "https://localhost:8080/"
        },
        "id": "9NNPPBmqyMOG",
        "outputId": "02605d74-f8b8-4f4c-801a-112376b9ef76"
      },
      "source": [
        "\"\"\"Build and train neural network\"\"\"\n",
        "\n",
        "# Build neural network\n",
        "model = models.Sequential()\n",
        "model.add(Dense(512, activation='relu', input_shape=(Num_of_Rows * Num_of_Cols,)))\n",
        "model.add(Dropout(0.5))\n",
        "model.add(Dense(256, activation='relu'))\n",
        "model.add(Dropout(0.25))\n",
        "model.add(Dense(128, activation='relu'))\n",
        "model.add(Dropout(0.1))\n",
        "model.add(Dense(10, activation='softmax'))\n",
        "\n",
        "# Compile model\n",
        "model.compile(optimizer=opt,\n",
        "              loss='categorical_crossentropy',\n",
        "              metrics=['accuracy'])\n",
        "\n",
        "# Train model\n",
        "model.fit(X_augmented, y_train,\n",
        "          batch_size=BATCH_SIZE,\n",
        "          epochs=EPOCHS,\n",
        "          verbose=1,\n",
        "          validation_data=(X_test, y_test))\n",
        "\n"
      ],
      "execution_count": 31,
      "outputs": [
        {
          "output_type": "stream",
          "text": [
            "Epoch 1/10\n",
            "469/469 [==============================] - 7s 14ms/step - loss: 20.3596 - accuracy: 0.3463 - val_loss: 2.3043 - val_accuracy: 0.0974\n",
            "Epoch 2/10\n",
            "469/469 [==============================] - 6s 13ms/step - loss: 1.0958 - accuracy: 0.6458 - val_loss: 2.4048 - val_accuracy: 0.0974\n",
            "Epoch 3/10\n",
            "469/469 [==============================] - 6s 14ms/step - loss: 0.9121 - accuracy: 0.7115 - val_loss: 2.4844 - val_accuracy: 0.0974\n",
            "Epoch 4/10\n",
            "469/469 [==============================] - 7s 14ms/step - loss: 0.8415 - accuracy: 0.7382 - val_loss: 2.5310 - val_accuracy: 0.0974\n",
            "Epoch 5/10\n",
            "469/469 [==============================] - 6s 13ms/step - loss: 0.7805 - accuracy: 0.7635 - val_loss: 2.5854 - val_accuracy: 0.0974\n",
            "Epoch 6/10\n",
            "469/469 [==============================] - 6s 13ms/step - loss: 0.7412 - accuracy: 0.7787 - val_loss: 2.6380 - val_accuracy: 0.0974\n",
            "Epoch 7/10\n",
            "469/469 [==============================] - 7s 14ms/step - loss: 0.7002 - accuracy: 0.7913 - val_loss: 2.6333 - val_accuracy: 0.0974\n",
            "Epoch 8/10\n",
            "469/469 [==============================] - 6s 14ms/step - loss: 0.6829 - accuracy: 0.7979 - val_loss: 2.6601 - val_accuracy: 0.0974\n",
            "Epoch 9/10\n",
            "469/469 [==============================] - 7s 14ms/step - loss: 0.6543 - accuracy: 0.8057 - val_loss: 2.6645 - val_accuracy: 0.0974\n",
            "Epoch 10/10\n",
            "469/469 [==============================] - 6s 14ms/step - loss: 0.6367 - accuracy: 0.8122 - val_loss: 2.7072 - val_accuracy: 0.0974\n"
          ],
          "name": "stdout"
        },
        {
          "output_type": "execute_result",
          "data": {
            "text/plain": [
              "<tensorflow.python.keras.callbacks.History at 0x7f88833a0910>"
            ]
          },
          "metadata": {
            "tags": []
          },
          "execution_count": 31
        }
      ]
    },
    {
      "cell_type": "markdown",
      "metadata": {
        "id": "K0U-cCeEySl1"
      },
      "source": [
        "# Model Evaluation on Augmented Dataset"
      ]
    },
    {
      "cell_type": "code",
      "metadata": {
        "colab": {
          "base_uri": "https://localhost:8080/"
        },
        "id": "k2UTBgGdyZJH",
        "outputId": "92f3ad27-a303-4180-d8bf-ab8c81bb4345"
      },
      "source": [
        "score = model.evaluate(X_test, y_test, verbose=0)\n",
        "print('Test loss:', score[0])\n",
        "print('Test accuracy:', score[1])\n",
        "\n",
        "\n",
        "\"\"\"Summarize and visualize the model\"\"\"\n",
        "\n",
        "# Summary of neural network\n",
        "model.summary()"
      ],
      "execution_count": 32,
      "outputs": [
        {
          "output_type": "stream",
          "text": [
            "Test loss: 2.7071774005889893\n",
            "Test accuracy: 0.09740000218153\n",
            "Model: \"sequential_6\"\n",
            "_________________________________________________________________\n",
            "Layer (type)                 Output Shape              Param #   \n",
            "=================================================================\n",
            "dense_24 (Dense)             (None, 512)               401920    \n",
            "_________________________________________________________________\n",
            "dropout_18 (Dropout)         (None, 512)               0         \n",
            "_________________________________________________________________\n",
            "dense_25 (Dense)             (None, 256)               131328    \n",
            "_________________________________________________________________\n",
            "dropout_19 (Dropout)         (None, 256)               0         \n",
            "_________________________________________________________________\n",
            "dense_26 (Dense)             (None, 128)               32896     \n",
            "_________________________________________________________________\n",
            "dropout_20 (Dropout)         (None, 128)               0         \n",
            "_________________________________________________________________\n",
            "dense_27 (Dense)             (None, 10)                1290      \n",
            "=================================================================\n",
            "Total params: 567,434\n",
            "Trainable params: 567,434\n",
            "Non-trainable params: 0\n",
            "_________________________________________________________________\n"
          ],
          "name": "stdout"
        }
      ]
    }
  ]
}